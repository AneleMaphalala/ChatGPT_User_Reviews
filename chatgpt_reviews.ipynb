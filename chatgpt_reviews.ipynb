{
 "cells": [
  {
   "cell_type": "markdown",
   "metadata": {},
   "source": [
    "# **ChatGPT User Reviews**\n",
    "\n",
    "## Overview\n",
    "\n",
    "ChatGPT is a chatbot and virtual assistant created by OpenAI, released on November 30, 2022. It utilizes large language models, allowing users to guide and shape conversations according to preferred length, format, style, detail, and language.\n",
    "\n",
    "#### Data Description\n",
    "This dataset comprises daily updates of user reviews and ratings for the ChatGPT Android App's section on the Google Play Store. It includes several key attributes that detail various aspects of the reviews, offering insights into user experiences and feedback over time.\n",
    "\n",
    "\n",
    "- `userName`: The display name of the individual who submitted the review.\n",
    "- `content`: The written text of the review, which includes the user's opinions, feedback, and detailed descriptions of their experience with the ChatGPT app.\n",
    "- `score`: The rating assigned by the user, generally between 1 and 5. This field reflects the numerical evaluation given by the user, with higher scores indicating more positive experiences and lower scores suggesting dissatisfaction.\n",
    "- `thumbsUpCount`: The count of thumbs up (likes) that the review has received. This metric indicates how many other users found the review useful or agreed with the sentiments expressed, serving as a gauge of the review’s relevance and influence.\n",
    "- `at`: The timestamp when the review was posted. This field records the date and time of the review submission, which is essential for tracking the distribution of reviews and analyzing trends over time.\n",
    "\n"
   ]
  },
  {
   "cell_type": "markdown",
   "metadata": {},
   "source": [
    "<a id=\"cont\"></a>\n",
    "\n",
    "## Table of Contents\n",
    "\n",
    "- [1. Import Packages](#one)\n",
    "- [2. Load Data](#two)\n",
    "- [3. Exploratory Data Analysis (EDA)](#three)\n",
    "- [4. Data Engineering](#four)\n",
    "- [5. Modeling](#five)\n",
    "- [6. Model Performance](#six)\n",
    "- [7. Model Explanations](#seven)\n",
    "- [8. Conclusion](#eight)"
   ]
  },
  {
   "cell_type": "markdown",
   "metadata": {},
   "source": [
    "<a id=\"one\"></a>\n",
    "# 1. Import Packages\n",
    "[Back to Table of Contents](#cont)\n",
    "\n",
    "---"
   ]
  },
  {
   "cell_type": "code",
   "execution_count": 1,
   "metadata": {},
   "outputs": [],
   "source": [
    "import pandas as pd\n",
    "import numpy as np\n",
    "import nltk\n",
    "import string\n",
    "from nltk.corpus import stopwords\n",
    "from sklearn.feature_extraction.text import CountVectorizer\n",
    "from sklearn.feature_extraction.text import TfidfTransformer\n",
    "from sklearn.naive_bayes import MultinomialNB\n",
    "from sklearn.ensemble import RandomForestClassifier\n",
    "from sklearn.model_selection import train_test_split\n",
    "from sklearn.pipeline import Pipeline\n",
    "from sklearn.metrics import confusion_matrix\n",
    "from sklearn.metrics import classification_report\n",
    "import matplotlib.pyplot as plt\n",
    "import seaborn as sns\n",
    "%matplotlib inline"
   ]
  },
  {
   "cell_type": "markdown",
   "metadata": {},
   "source": [
    "<a id=\"two\"></a>\n",
    "# 2. Load Data\n",
    "[Back to Table of Contents](#cont)\n",
    "\n",
    "---"
   ]
  },
  {
   "cell_type": "code",
   "execution_count": 2,
   "metadata": {},
   "outputs": [],
   "source": [
    "reviews = pd.read_csv(\"clean_chatgpt_reviews.csv\")"
   ]
  },
  {
   "cell_type": "markdown",
   "metadata": {},
   "source": [
    "<a id=\"three\"></a>\n",
    "# 3. Exploratory Data Analysis (EDA)\n",
    "[Back to Table of Contents](#cont)\n",
    "\n",
    "---"
   ]
  },
  {
   "cell_type": "code",
   "execution_count": 3,
   "metadata": {},
   "outputs": [
    {
     "data": {
      "text/html": [
       "<div>\n",
       "<style scoped>\n",
       "    .dataframe tbody tr th:only-of-type {\n",
       "        vertical-align: middle;\n",
       "    }\n",
       "\n",
       "    .dataframe tbody tr th {\n",
       "        vertical-align: top;\n",
       "    }\n",
       "\n",
       "    .dataframe thead th {\n",
       "        text-align: right;\n",
       "    }\n",
       "</style>\n",
       "<table border=\"1\" class=\"dataframe\">\n",
       "  <thead>\n",
       "    <tr style=\"text-align: right;\">\n",
       "      <th></th>\n",
       "      <th>Unnamed: 0</th>\n",
       "      <th>userName</th>\n",
       "      <th>content</th>\n",
       "      <th>score</th>\n",
       "      <th>thumbsUpCount</th>\n",
       "      <th>at</th>\n",
       "    </tr>\n",
       "  </thead>\n",
       "  <tbody>\n",
       "    <tr>\n",
       "      <th>0</th>\n",
       "      <td>0</td>\n",
       "      <td>T H (Trudylh20)</td>\n",
       "      <td>excellent Im impressed 👌 👏</td>\n",
       "      <td>5</td>\n",
       "      <td>0</td>\n",
       "      <td>28-06-2024 21:07</td>\n",
       "    </tr>\n",
       "    <tr>\n",
       "      <th>1</th>\n",
       "      <td>1</td>\n",
       "      <td>Muhammad bassam adam</td>\n",
       "      <td>perfect</td>\n",
       "      <td>5</td>\n",
       "      <td>0</td>\n",
       "      <td>28-06-2024 20:56</td>\n",
       "    </tr>\n",
       "    <tr>\n",
       "      <th>2</th>\n",
       "      <td>2</td>\n",
       "      <td>Chinaza Okoli</td>\n",
       "      <td>its been so helpful...love it</td>\n",
       "      <td>5</td>\n",
       "      <td>0</td>\n",
       "      <td>28-06-2024 20:54</td>\n",
       "    </tr>\n",
       "    <tr>\n",
       "      <th>3</th>\n",
       "      <td>3</td>\n",
       "      <td>Project House Group Ltd</td>\n",
       "      <td>It's amazing tools help me a lot with my work.</td>\n",
       "      <td>5</td>\n",
       "      <td>0</td>\n",
       "      <td>28-06-2024 20:51</td>\n",
       "    </tr>\n",
       "    <tr>\n",
       "      <th>4</th>\n",
       "      <td>4</td>\n",
       "      <td>Safoan Riyad</td>\n",
       "      <td>I enjoyed ChatGPT. But last update ruined ever...</td>\n",
       "      <td>1</td>\n",
       "      <td>0</td>\n",
       "      <td>28-06-2024 20:50</td>\n",
       "    </tr>\n",
       "  </tbody>\n",
       "</table>\n",
       "</div>"
      ],
      "text/plain": [
       "   Unnamed: 0                 userName  \\\n",
       "0           0          T H (Trudylh20)   \n",
       "1           1     Muhammad bassam adam   \n",
       "2           2            Chinaza Okoli   \n",
       "3           3  Project House Group Ltd   \n",
       "4           4             Safoan Riyad   \n",
       "\n",
       "                                             content  score  thumbsUpCount  \\\n",
       "0                         excellent Im impressed 👌 👏      5              0   \n",
       "1                                            perfect      5              0   \n",
       "2                      its been so helpful...love it      5              0   \n",
       "3     It's amazing tools help me a lot with my work.      5              0   \n",
       "4  I enjoyed ChatGPT. But last update ruined ever...      1              0   \n",
       "\n",
       "                 at  \n",
       "0  28-06-2024 21:07  \n",
       "1  28-06-2024 20:56  \n",
       "2  28-06-2024 20:54  \n",
       "3  28-06-2024 20:51  \n",
       "4  28-06-2024 20:50  "
      ]
     },
     "execution_count": 3,
     "metadata": {},
     "output_type": "execute_result"
    }
   ],
   "source": [
    "reviews.head()"
   ]
  },
  {
   "cell_type": "code",
   "execution_count": 4,
   "metadata": {},
   "outputs": [
    {
     "data": {
      "text/html": [
       "<div>\n",
       "<style scoped>\n",
       "    .dataframe tbody tr th:only-of-type {\n",
       "        vertical-align: middle;\n",
       "    }\n",
       "\n",
       "    .dataframe tbody tr th {\n",
       "        vertical-align: top;\n",
       "    }\n",
       "\n",
       "    .dataframe thead th {\n",
       "        text-align: right;\n",
       "    }\n",
       "</style>\n",
       "<table border=\"1\" class=\"dataframe\">\n",
       "  <thead>\n",
       "    <tr style=\"text-align: right;\">\n",
       "      <th></th>\n",
       "      <th>Unnamed: 0</th>\n",
       "      <th>userName</th>\n",
       "      <th>content</th>\n",
       "      <th>score</th>\n",
       "      <th>thumbsUpCount</th>\n",
       "      <th>at</th>\n",
       "    </tr>\n",
       "  </thead>\n",
       "  <tbody>\n",
       "    <tr>\n",
       "      <th>149714</th>\n",
       "      <td>149720</td>\n",
       "      <td>m.santhosh Kumar</td>\n",
       "      <td>Update 2023</td>\n",
       "      <td>5</td>\n",
       "      <td>0</td>\n",
       "      <td>27-07-2023 16:26</td>\n",
       "    </tr>\n",
       "    <tr>\n",
       "      <th>149715</th>\n",
       "      <td>149721</td>\n",
       "      <td>Andrew Bourgeois</td>\n",
       "      <td>its grear</td>\n",
       "      <td>5</td>\n",
       "      <td>0</td>\n",
       "      <td>23-09-2023 16:25</td>\n",
       "    </tr>\n",
       "    <tr>\n",
       "      <th>149716</th>\n",
       "      <td>149722</td>\n",
       "      <td>Dern Bob</td>\n",
       "      <td>Funtastic App</td>\n",
       "      <td>5</td>\n",
       "      <td>0</td>\n",
       "      <td>08-11-2023 13:57</td>\n",
       "    </tr>\n",
       "    <tr>\n",
       "      <th>149717</th>\n",
       "      <td>149723</td>\n",
       "      <td>Abdur rahman arif</td>\n",
       "      <td>hi all</td>\n",
       "      <td>5</td>\n",
       "      <td>0</td>\n",
       "      <td>25-07-2023 15:32</td>\n",
       "    </tr>\n",
       "    <tr>\n",
       "      <th>149718</th>\n",
       "      <td>149724</td>\n",
       "      <td>Tushar Deran</td>\n",
       "      <td>expert application</td>\n",
       "      <td>5</td>\n",
       "      <td>0</td>\n",
       "      <td>30-11-2023 18:11</td>\n",
       "    </tr>\n",
       "  </tbody>\n",
       "</table>\n",
       "</div>"
      ],
      "text/plain": [
       "        Unnamed: 0           userName             content  score  \\\n",
       "149714      149720   m.santhosh Kumar         Update 2023      5   \n",
       "149715      149721   Andrew Bourgeois           its grear      5   \n",
       "149716      149722           Dern Bob       Funtastic App      5   \n",
       "149717      149723  Abdur rahman arif              hi all      5   \n",
       "149718      149724       Tushar Deran  expert application      5   \n",
       "\n",
       "        thumbsUpCount                at  \n",
       "149714              0  27-07-2023 16:26  \n",
       "149715              0  23-09-2023 16:25  \n",
       "149716              0  08-11-2023 13:57  \n",
       "149717              0  25-07-2023 15:32  \n",
       "149718              0  30-11-2023 18:11  "
      ]
     },
     "execution_count": 4,
     "metadata": {},
     "output_type": "execute_result"
    }
   ],
   "source": [
    "reviews.tail()"
   ]
  },
  {
   "cell_type": "code",
   "execution_count": 5,
   "metadata": {},
   "outputs": [
    {
     "name": "stdout",
     "output_type": "stream",
     "text": [
      "<class 'pandas.core.frame.DataFrame'>\n",
      "RangeIndex: 149719 entries, 0 to 149718\n",
      "Data columns (total 6 columns):\n",
      " #   Column         Non-Null Count   Dtype \n",
      "---  ------         --------------   ----- \n",
      " 0   Unnamed: 0     149719 non-null  int64 \n",
      " 1   userName       149719 non-null  object\n",
      " 2   content        149719 non-null  object\n",
      " 3   score          149719 non-null  int64 \n",
      " 4   thumbsUpCount  149719 non-null  int64 \n",
      " 5   at             149719 non-null  object\n",
      "dtypes: int64(3), object(3)\n",
      "memory usage: 6.9+ MB\n"
     ]
    }
   ],
   "source": [
    "# Display basic information about the training data\n",
    "reviews.info()"
   ]
  },
  {
   "cell_type": "code",
   "execution_count": 6,
   "metadata": {},
   "outputs": [
    {
     "data": {
      "text/html": [
       "<div>\n",
       "<style scoped>\n",
       "    .dataframe tbody tr th:only-of-type {\n",
       "        vertical-align: middle;\n",
       "    }\n",
       "\n",
       "    .dataframe tbody tr th {\n",
       "        vertical-align: top;\n",
       "    }\n",
       "\n",
       "    .dataframe thead th {\n",
       "        text-align: right;\n",
       "    }\n",
       "</style>\n",
       "<table border=\"1\" class=\"dataframe\">\n",
       "  <thead>\n",
       "    <tr style=\"text-align: right;\">\n",
       "      <th></th>\n",
       "      <th>count</th>\n",
       "      <th>mean</th>\n",
       "      <th>std</th>\n",
       "      <th>min</th>\n",
       "      <th>25%</th>\n",
       "      <th>50%</th>\n",
       "      <th>75%</th>\n",
       "      <th>max</th>\n",
       "    </tr>\n",
       "  </thead>\n",
       "  <tbody>\n",
       "    <tr>\n",
       "      <th>Unnamed: 0</th>\n",
       "      <td>149719.0</td>\n",
       "      <td>74861.348252</td>\n",
       "      <td>43221.928693</td>\n",
       "      <td>0.0</td>\n",
       "      <td>37430.5</td>\n",
       "      <td>74860.0</td>\n",
       "      <td>112291.5</td>\n",
       "      <td>149724.0</td>\n",
       "    </tr>\n",
       "    <tr>\n",
       "      <th>score</th>\n",
       "      <td>149719.0</td>\n",
       "      <td>4.491848</td>\n",
       "      <td>1.096859</td>\n",
       "      <td>1.0</td>\n",
       "      <td>5.0</td>\n",
       "      <td>5.0</td>\n",
       "      <td>5.0</td>\n",
       "      <td>5.0</td>\n",
       "    </tr>\n",
       "    <tr>\n",
       "      <th>thumbsUpCount</th>\n",
       "      <td>149719.0</td>\n",
       "      <td>0.492937</td>\n",
       "      <td>12.285116</td>\n",
       "      <td>0.0</td>\n",
       "      <td>0.0</td>\n",
       "      <td>0.0</td>\n",
       "      <td>0.0</td>\n",
       "      <td>1193.0</td>\n",
       "    </tr>\n",
       "  </tbody>\n",
       "</table>\n",
       "</div>"
      ],
      "text/plain": [
       "                  count          mean           std  min      25%      50%  \\\n",
       "Unnamed: 0     149719.0  74861.348252  43221.928693  0.0  37430.5  74860.0   \n",
       "score          149719.0      4.491848      1.096859  1.0      5.0      5.0   \n",
       "thumbsUpCount  149719.0      0.492937     12.285116  0.0      0.0      0.0   \n",
       "\n",
       "                    75%       max  \n",
       "Unnamed: 0     112291.5  149724.0  \n",
       "score               5.0       5.0  \n",
       "thumbsUpCount       0.0    1193.0  "
      ]
     },
     "execution_count": 6,
     "metadata": {},
     "output_type": "execute_result"
    }
   ],
   "source": [
    "# Display descriptive statistics of the training data\n",
    "reviews.describe().T"
   ]
  },
  {
   "cell_type": "code",
   "execution_count": 7,
   "metadata": {},
   "outputs": [
    {
     "data": {
      "text/plain": [
       "Unnamed: 0       0\n",
       "userName         0\n",
       "content          0\n",
       "score            0\n",
       "thumbsUpCount    0\n",
       "at               0\n",
       "dtype: int64"
      ]
     },
     "execution_count": 7,
     "metadata": {},
     "output_type": "execute_result"
    }
   ],
   "source": [
    "# Check for missing values in the training data\n",
    "reviews_missing_values = reviews.isnull().sum()\n",
    "reviews_missing_values"
   ]
  }
 ],
 "metadata": {
  "kernelspec": {
   "display_name": "base",
   "language": "python",
   "name": "python3"
  },
  "language_info": {
   "codemirror_mode": {
    "name": "ipython",
    "version": 3
   },
   "file_extension": ".py",
   "mimetype": "text/x-python",
   "name": "python",
   "nbconvert_exporter": "python",
   "pygments_lexer": "ipython3",
   "version": "3.11.5"
  }
 },
 "nbformat": 4,
 "nbformat_minor": 2
}
